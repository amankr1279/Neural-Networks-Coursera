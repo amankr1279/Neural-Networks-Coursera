{
 "cells": [
  {
   "cell_type": "code",
   "execution_count": 18,
   "metadata": {},
   "outputs": [
    {
     "name": "stdout",
     "output_type": "stream",
     "text": [
      "Vectorization time : 3.4220218658447266\n",
      "For Loop time : 774.5707035064697\n"
     ]
    }
   ],
   "source": [
    "import numpy as np\n",
    "import time\n",
    "\n",
    "a = np.random.rand(1000000)\n",
    "\n",
    "b = np.random.rand(1000000)\n",
    "st = time.time()\n",
    "c= np.dot(a,b)\n",
    "end= time.time()\n",
    "print(\"Vectorization time : \" + str((end-st)*1000))\n",
    "\n",
    "c=0\n",
    "st = time.time()\n",
    "for i in range(1000000):\n",
    "        c += a[i] * b[i]\n",
    "\n",
    "end= time.time()\n",
    "print(\"For Loop time : \" + str((end-st)*1000))\n"
   ]
  },
  {
   "cell_type": "code",
   "execution_count": null,
   "metadata": {},
   "outputs": [],
   "source": []
  }
 ],
 "metadata": {
  "kernelspec": {
   "display_name": "Python 3",
   "language": "python",
   "name": "python3"
  },
  "language_info": {
   "codemirror_mode": {
    "name": "ipython",
    "version": 3
   },
   "file_extension": ".py",
   "mimetype": "text/x-python",
   "name": "python",
   "nbconvert_exporter": "python",
   "pygments_lexer": "ipython3",
   "version": "3.6.9"
  },
  "orig_nbformat": 4
 },
 "nbformat": 4,
 "nbformat_minor": 2
}
