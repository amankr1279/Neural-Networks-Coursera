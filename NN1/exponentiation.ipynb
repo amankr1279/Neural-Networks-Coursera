{
 "cells": [
  {
   "cell_type": "code",
   "execution_count": 18,
   "metadata": {},
   "outputs": [
    {
     "name": "stdout",
     "output_type": "stream",
     "text": [
      "Numpy time : 25.48050880432129\n",
      "For loop time : 266.8147087097168\n"
     ]
    }
   ],
   "source": [
    "import time\n",
    "import numpy as np\n",
    "import math\n",
    "\n",
    "st = time.time()\n",
    "LEN = 1000000\n",
    "a = np.random.rand(LEN)\n",
    "b = np.exp(a)\n",
    "end = time.time()\n",
    "print(\"Numpy time : \" + str((end-st)*1000))\n",
    "\n",
    "st = time.time()\n",
    "for i in range(LEN):\n",
    "    b[i] = math.exp(a[i])\n",
    "end = time.time() \n",
    "print(\"For loop time : \"+ str((end-st)*1000))"
   ]
  }
 ],
 "metadata": {
  "kernelspec": {
   "display_name": "Python 3",
   "language": "python",
   "name": "python3"
  },
  "language_info": {
   "codemirror_mode": {
    "name": "ipython",
    "version": 3
   },
   "file_extension": ".py",
   "mimetype": "text/x-python",
   "name": "python",
   "nbconvert_exporter": "python",
   "pygments_lexer": "ipython3",
   "version": "3.6.9"
  },
  "orig_nbformat": 4
 },
 "nbformat": 4,
 "nbformat_minor": 2
}
